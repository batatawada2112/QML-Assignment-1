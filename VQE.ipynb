{
 "cells": [
  {
   "cell_type": "code",
   "execution_count": 1,
   "metadata": {},
   "outputs": [],
   "source": [
    "import numpy as np\n",
    "from qiskit.circuit.library import EfficientSU2\n",
    "from qiskit.quantum_info import SparsePauliOp\n",
    "from scipy.optimize import minimize\n",
    "from qiskit_aer import Aer, AerSimulator\n",
    "from qiskit.compiler import transpile\n",
    "from qiskit.circuit import QuantumRegister, ClassicalRegister\n",
    "from qiskit.transpiler.preset_passmanagers import generate_preset_pass_manager\n",
    "from qiskit_algorithms import NumPyMinimumEigensolver\n",
    "from qiskit_ibm_runtime import Session\n",
    "from qiskit_ibm_runtime import EstimatorV2 as Estimator\n",
    "import matplotlib.pyplot as plt\n"
   ]
  },
  {
   "cell_type": "markdown",
   "metadata": {},
   "source": [
    "Set the backend as the Aer Simulator and Create the Hamiltonian H = X₀X₁ + Y₀Y₁ + Z₀I₁"
   ]
  },
  {
   "cell_type": "code",
   "execution_count": 2,
   "metadata": {},
   "outputs": [],
   "source": [
    "backend = AerSimulator()\n",
    "\n",
    "XX = SparsePauliOp.from_list([(\"XX\", 1.0)])\n",
    "YY = SparsePauliOp.from_list([(\"YY\", 1.0)])\n",
    "ZI = SparsePauliOp.from_list([(\"ZI\", 1.0)])\n",
    "hamiltonian = XX + YY + ZI\n"
   ]
  },
  {
   "cell_type": "markdown",
   "metadata": {},
   "source": [
    "Define the Ansatz "
   ]
  },
  {
   "cell_type": "code",
   "execution_count": 3,
   "metadata": {},
   "outputs": [],
   "source": [
    "ansatz = EfficientSU2(hamiltonian.num_qubits)"
   ]
  },
  {
   "cell_type": "markdown",
   "metadata": {},
   "source": [
    "The parameters will be the same as the number of parameters in the Ansatz and optimizing using a Preset Pass Manager"
   ]
  },
  {
   "cell_type": "code",
   "execution_count": 4,
   "metadata": {},
   "outputs": [],
   "source": [
    "num_params = ansatz.num_parameters\n",
    "pm = generate_preset_pass_manager(backend=backend, optimization_level=3)\n",
    "ansatz_isa = pm.run(ansatz)"
   ]
  },
  {
   "cell_type": "markdown",
   "metadata": {},
   "source": [
    "Now define a function that returns the energy that we got from the estimator. Also generate random initial parameters"
   ]
  },
  {
   "cell_type": "code",
   "execution_count": 5,
   "metadata": {},
   "outputs": [],
   "source": [
    "cost_history_dict = {\n",
    "    \"prev_vector\": None,\n",
    "    \"iterations\": 0,\n",
    "    \"history\": [],\n",
    "}\n",
    "\n",
    "def cost_func(params, ansatz, hamiltonian, estimator):\n",
    "\tpub = (ansatz, [hamiltonian], [params])\n",
    "\tresult = estimator.run(pubs=[pub]).result()\n",
    "\tenergy = result[0].data.evs[0]\n",
    "\t\n",
    "\tcost_history_dict[\"iterations\"] += 1\n",
    "\tcost_history_dict[\"prev_vector\"] = params\n",
    "\tcost_history_dict[\"history\"].append(energy)\n",
    "\tprint(f\"Iterations. done: {cost_history_dict['iterations']} [Current cost: {energy}]\")\n",
    "\n",
    "\treturn energy\n",
    "\n",
    "\n",
    "X = 2 * np.pi * np.random.random(num_params)\n",
    "hamiltonian_isa = hamiltonian.apply_layout(layout=ansatz_isa.layout)"
   ]
  },
  {
   "cell_type": "markdown",
   "metadata": {},
   "source": [
    "Run the optimization with the estimator and print the costs"
   ]
  },
  {
   "cell_type": "code",
   "execution_count": 6,
   "metadata": {},
   "outputs": [
    {
     "name": "stdout",
     "output_type": "stream",
     "text": [
      "Iterations. done: 1 [Current cost: 0.08980688706955814]\n",
      "Iterations. done: 2 [Current cost: 0.09455659021311164]\n",
      "Iterations. done: 3 [Current cost: -1.5000937441409912]\n",
      "Iterations. done: 4 [Current cost: -1.3511030560589963]\n",
      "Iterations. done: 5 [Current cost: -0.87138303856009]\n",
      "Iterations. done: 6 [Current cost: -0.5152802949815637]\n",
      "Iterations. done: 7 [Current cost: -1.1742391100556215]\n",
      "Iterations. done: 8 [Current cost: -1.0447472032997938]\n",
      "Iterations. done: 9 [Current cost: -0.9796262733579151]\n",
      "Iterations. done: 10 [Current cost: -1.6348353227923256]\n",
      "Iterations. done: 11 [Current cost: -1.3964752202987312]\n",
      "Iterations. done: 12 [Current cost: -1.4399725017186427]\n",
      "Iterations. done: 13 [Current cost: -1.71883007312043]\n",
      "Iterations. done: 14 [Current cost: -1.1731141803637273]\n",
      "Iterations. done: 15 [Current cost: -1.7832010499343791]\n",
      "Iterations. done: 16 [Current cost: -1.4688456971439285]\n",
      "Iterations. done: 17 [Current cost: -0.3934129116930192]\n",
      "Iterations. done: 18 [Current cost: -1.0078745078432598]\n",
      "Iterations. done: 19 [Current cost: -1.4318480094994062]\n",
      "Iterations. done: 20 [Current cost: -1.5634647834510342]\n",
      "Iterations. done: 21 [Current cost: -1.1929879382538593]\n",
      "Iterations. done: 22 [Current cost: -1.6498343853509156]\n",
      "Iterations. done: 23 [Current cost: -1.8535716517717642]\n",
      "Iterations. done: 24 [Current cost: -2.024935941503656]\n",
      "Iterations. done: 25 [Current cost: -2.122179863758515]\n",
      "Iterations. done: 26 [Current cost: -2.0501843634772827]\n",
      "Iterations. done: 27 [Current cost: -1.8979438785075935]\n",
      "Iterations. done: 28 [Current cost: -2.0960564964689707]\n",
      "Iterations. done: 29 [Current cost: -1.9053184175989002]\n",
      "Iterations. done: 30 [Current cost: -2.088306980813699]\n",
      "Iterations. done: 31 [Current cost: -2.0870570589338167]\n",
      "Iterations. done: 32 [Current cost: -2.0525592150490595]\n",
      "Iterations. done: 33 [Current cost: -1.922317355165302]\n",
      "Iterations. done: 34 [Current cost: -2.0586838322604835]\n",
      "Iterations. done: 35 [Current cost: -1.9828135741516157]\n",
      "Iterations. done: 36 [Current cost: -1.9855634022873572]\n",
      "Iterations. done: 37 [Current cost: -2.0794325354665335]\n",
      "Iterations. done: 38 [Current cost: -2.0895569026935816]\n",
      "Iterations. done: 39 [Current cost: -2.062433597900131]\n",
      "Iterations. done: 40 [Current cost: -2.1304293481657397]\n",
      "Iterations. done: 41 [Current cost: -2.1263046059621273]\n",
      "Iterations. done: 42 [Current cost: -2.149553152927942]\n",
      "Iterations. done: 43 [Current cost: -2.1206799575026563]\n",
      "Iterations. done: 44 [Current cost: -2.157177676395225]\n",
      "Iterations. done: 45 [Current cost: -2.1313042934816577]\n",
      "Iterations. done: 46 [Current cost: -2.14542841072433]\n",
      "Iterations. done: 47 [Current cost: -2.09180676207737]\n",
      "Iterations. done: 48 [Current cost: -2.1544278482594836]\n",
      "Iterations. done: 49 [Current cost: -2.1866758327604523]\n",
      "Iterations. done: 50 [Current cost: -2.1453034185363413]\n",
      "Iterations. done: 51 [Current cost: -2.130554340353728]\n",
      "Iterations. done: 52 [Current cost: -2.1444284732204237]\n",
      "Iterations. done: 53 [Current cost: -2.1861758640085]\n",
      "Iterations. done: 54 [Current cost: -2.1621773639147555]\n",
      "Iterations. done: 55 [Current cost: -2.184925942128617]\n",
      "Iterations. done: 56 [Current cost: -2.198050121867383]\n",
      "Iterations. done: 57 [Current cost: -2.1799262546090867]\n",
      "Iterations. done: 58 [Current cost: -2.2046747078307605]\n",
      "Iterations. done: 59 [Current cost: -2.1831760514967815]\n",
      "Iterations. done: 60 [Current cost: -2.182801074932817]\n",
      "Iterations. done: 61 [Current cost: -2.2027998250109366]\n",
      "Iterations. done: 62 [Current cost: -2.1771764264733457]\n",
      "Iterations. done: 63 [Current cost: -2.1691769264420975]\n",
      "Iterations. done: 64 [Current cost: -2.2156740203737266]\n",
      "Iterations. done: 65 [Current cost: -2.205299668770702]\n",
      "Iterations. done: 66 [Current cost: -2.194300356227736]\n",
      "Iterations. done: 67 [Current cost: -2.185925879632523]\n",
      "Iterations. done: 68 [Current cost: -2.2126742078620087]\n",
      "Iterations. done: 69 [Current cost: -2.2065495906505843]\n",
      "Iterations. done: 70 [Current cost: -2.20254984063496]\n",
      "Iterations. done: 71 [Current cost: -2.1773014186613335]\n",
      "Iterations. done: 72 [Current cost: -2.2115492781701143]\n",
      "Iterations. done: 73 [Current cost: -2.1785513405412162]\n",
      "Iterations. done: 74 [Current cost: -2.189800637460159]\n",
      "Iterations. done: 75 [Current cost: -2.2149240672457973]\n",
      "Iterations. done: 76 [Current cost: -2.1855509030685583]\n",
      "Iterations. done: 77 [Current cost: -2.203799762514843]\n",
      "Iterations. done: 78 [Current cost: -2.213424160989938]\n",
      "Iterations. done: 79 [Current cost: -2.1823011061808635]\n",
      "Iterations. done: 80 [Current cost: -2.191925504655959]\n",
      "Iterations. done: 81 [Current cost: -2.2054246609586903]\n",
      "Iterations. done: 82 [Current cost: -2.1933004187238296]\n",
      "Iterations. done: 83 [Current cost: -2.1986750828073247]\n",
      "Iterations. done: 84 [Current cost: -2.194800324979689]\n",
      "Iterations. done: 85 [Current cost: -2.206424598462596]\n",
      "Iterations. done: 86 [Current cost: -2.218423848509468]\n",
      "Iterations. done: 87 [Current cost: -2.1991750515592776]\n",
      "Iterations. done: 88 [Current cost: -2.2066745828385725]\n",
      "Iterations. done: 89 [Current cost: -2.212299231298044]\n",
      "Iterations. done: 90 [Current cost: -2.200799950003125]\n",
      "Iterations. done: 91 [Current cost: -2.212049246922067]\n",
      "Iterations. done: 92 [Current cost: -2.188425723392288]\n",
      "Iterations. done: 93 [Current cost: -2.191300543716018]\n",
      "Iterations. done: 94 [Current cost: -2.2002999812511717]\n",
      "Iterations. done: 95 [Current cost: -2.1904255984001]\n",
      "Iterations. done: 96 [Current cost: -2.20754952815449]\n",
      "Iterations. done: 97 [Current cost: -2.2032997937628895]\n",
      "Iterations. done: 98 [Current cost: -2.2111743016061496]\n",
      "Iterations. done: 99 [Current cost: -2.204924692206737]\n",
      "Iterations. done: 100 [Current cost: -2.1975501531154302]\n",
      "Iterations. done: 101 [Current cost: -2.2055496531466785]\n",
      "Iterations. done: 102 [Current cost: -2.20542466095869]\n",
      "Iterations. done: 103 [Current cost: -2.2016748953190426]\n",
      "Iterations. done: 104 [Current cost: -2.2041747390788076]\n",
      "Iterations. done: 105 [Current cost: -2.201924879695019]\n",
      "Iterations. done: 106 [Current cost: -2.1940503718517594]\n",
      "Iterations. done: 107 [Current cost: -2.1904255984001]\n",
      "Iterations. done: 108 [Current cost: -2.2079245047184552]\n",
      "Iterations. done: 109 [Current cost: -2.1900506218361353]\n",
      "Iterations. done: 110 [Current cost: -2.1975501531154302]\n",
      "Iterations. done: 111 [Current cost: -2.21542403599775]\n",
      "Iterations. done: 112 [Current cost: -2.191050559340041]\n",
      "Iterations. done: 113 [Current cost: -2.1925504655959003]\n",
      "Iterations. done: 114 [Current cost: -2.2022998562589837]\n",
      "Iterations. done: 115 [Current cost: -2.198050121867383]\n",
      "Iterations. done: 116 [Current cost: -2.2001749890631834]\n",
      "Iterations. done: 117 [Current cost: -2.1900506218361353]\n",
      "Iterations. done: 118 [Current cost: -2.1961752390475597]\n",
      "Iterations. done: 119 [Current cost: -2.198175114055372]\n",
      "Iterations. done: 120 [Current cost: -2.2200487469533154]\n",
      "Iterations. done: 121 [Current cost: -2.2031748015749013]\n",
      "Iterations. done: 122 [Current cost: -2.1990500593712894]\n",
      "Iterations. done: 123 [Current cost: -2.201799887507031]\n",
      "Iterations. done: 124 [Current cost: -2.208924442222361]\n",
      "Iterations. done: 125 [Current cost: -2.1836760202487344]\n",
      "Iterations. done: 126 [Current cost: -2.186925817136429]\n",
      "Iterations. done: 127 [Current cost: -2.198800074995313]\n",
      "Iterations. done: 128 [Current cost: -2.1956752702956064]\n",
      "Iterations. done: 129 [Current cost: -2.191550528091994]\n",
      "Iterations. done: 130 [Current cost: -2.1910505593400416]\n",
      "Iterations. done: 131 [Current cost: -2.193050434347853]\n",
      "Iterations. done: 132 [Current cost: -2.1998000124992187]\n",
      "Iterations. done: 133 [Current cost: -2.1901756140241235]\n",
      "Iterations. done: 134 [Current cost: -2.2026748328229484]\n",
      "Iterations. done: 135 [Current cost: -2.205299668770702]\n",
      "Iterations. done: 136 [Current cost: -2.188425723392288]\n",
      "Iterations. done: 137 [Current cost: -2.198925067183301]\n",
      "Iterations. done: 138 [Current cost: -2.1939253796637708]\n",
      "Iterations. done: 139 [Current cost: -2.205799637522655]\n",
      "Iterations. done: 140 [Current cost: -2.2100493719142555]\n",
      "Iterations. done: 141 [Current cost: -2.200299981251172]\n",
      "Iterations. done: 142 [Current cost: -2.187425785888382]\n",
      "Iterations. done: 143 [Current cost: -2.205299668770702]\n",
      "Iterations. done: 144 [Current cost: -2.2010499343791015]\n",
      "Iterations. done: 145 [Current cost: -2.194800324979689]\n",
      "Iterations. done: 146 [Current cost: -2.183926004624711]\n",
      "Iterations. done: 147 [Current cost: -2.196925192175489]\n",
      "Iterations. done: 148 [Current cost: -2.1990500593712894]\n",
      "Iterations. done: 149 [Current cost: -2.204674707830761]\n",
      "Iterations. done: 150 [Current cost: -2.188550715580276]\n",
      "Iterations. done: 151 [Current cost: -2.1800512467970754]\n",
      "Iterations. done: 152 [Current cost: -2.214549090681832]\n",
      "Iterations. done: 153 [Current cost: -2.207049559402537]\n",
      "Iterations. done: 154 [Current cost: -2.214799075057809]\n",
      "Iterations. done: 155 [Current cost: -2.2055496531466785]\n",
      "Iterations. done: 156 [Current cost: -2.1869258171364288]\n",
      "Iterations. done: 157 [Current cost: -2.2066745828385725]\n",
      "Iterations. done: 158 [Current cost: -2.2086744578463846]\n",
      "Iterations. done: 159 [Current cost: -2.200549965627148]\n",
      "Iterations. done: 160 [Current cost: -2.1981751140553714]\n",
      "Iterations. done: 161 [Current cost: -2.190675582776077]\n",
      "Iterations. done: 162 [Current cost: -2.2161739891256795]\n",
      "Iterations. done: 163 [Current cost: -2.208924442222361]\n",
      "Iterations. done: 164 [Current cost: -2.2027998250109366]\n",
      "Iterations. done: 165 [Current cost: -2.205299668770702]\n"
     ]
    }
   ],
   "source": [
    "with Session(backend=backend) as session:\n",
    "    estimator = Estimator(mode=session)\n",
    "    estimator.options.default_shots = 16000\n",
    "\n",
    "    res = minimize(\n",
    "        cost_func,\n",
    "        X,\n",
    "        args=(ansatz_isa, hamiltonian_isa, estimator),\n",
    "        method=\"COBYLA\",\n",
    "    )"
   ]
  },
  {
   "cell_type": "markdown",
   "metadata": {},
   "source": [
    "Plot a graph of the results"
   ]
  },
  {
   "cell_type": "code",
   "execution_count": 7,
   "metadata": {},
   "outputs": [
    {
     "data": {
      "image/png": "[encoded data removed]",
      "text/plain": [
       "<Figure size 640x480 with 1 Axes>"
      ]
     },
     "metadata": {},
     "output_type": "display_data"
    }
   ],
   "source": [
    "fig, ax = plt.subplots()\n",
    "ax.plot(range(cost_history_dict[\"iterations\"]), cost_history_dict[\"history\"])\n",
    "ax.set_xlabel(\"Iterations\")\n",
    "ax.set_ylabel(\"Cost\")\n",
    "plt.draw()"
   ]
  },
  {
   "cell_type": "markdown",
   "metadata": {},
   "source": [
    "We plot the ground energy state gotten by the NumpyMinEigensolver and then compare it to the one we got by our iteration and plot the difference"
   ]
  },
  {
   "cell_type": "code",
   "execution_count": 8,
   "metadata": {},
   "outputs": [
    {
     "name": "stdout",
     "output_type": "stream",
     "text": [
      "Optimized ground state energy: -2.205299668770702\n",
      "Exact ground state energy: -2.236067977499788\n",
      "Energy Difference: 0.03076830872908598\n"
     ]
    }
   ],
   "source": [
    "solver = NumPyMinimumEigensolver()\n",
    "result = solver.compute_minimum_eigenvalue(hamiltonian)\n",
    "print('Optimized ground state energy:', res.fun)\n",
    "print('Exact ground state energy:', result.eigenvalue.real)\n",
    "print('Energy Difference:', abs(result.eigenvalue.real - res.fun))"
   ]
  },
  {
   "cell_type": "markdown",
   "metadata": {},
   "source": [
    "The VQE method has provided a reasonable approximation to the exact ground state energy, with a small error of around 0.0425."
   ]
  }
 ],
 "metadata": {
  "kernelspec": {
   "display_name": "Python 3",
   "language": "python",
   "name": "python3"
  },
  "language_info": {
   "codemirror_mode": {
    "name": "ipython",
    "version": 3
   },
   "file_extension": ".py",
   "mimetype": "text/x-python",
   "name": "python",
   "nbconvert_exporter": "python",
   "pygments_lexer": "ipython3",
   "version": "3.12.2"
  }
 },
 "nbformat": 4,
 "nbformat_minor": 2
}
